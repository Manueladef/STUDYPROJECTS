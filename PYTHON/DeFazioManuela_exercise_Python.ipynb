{
 "cells": [
  {
   "cell_type": "code",
   "execution_count": 2,
   "id": "fcb93962-c40f-4181-82f5-2556dbc00247",
   "metadata": {},
   "outputs": [],
   "source": [
    "import pandas as pd"
   ]
  },
  {
   "cell_type": "code",
   "execution_count": 3,
   "id": "a7ba07a7-eed1-48cc-b2d5-8f8b498587aa",
   "metadata": {},
   "outputs": [],
   "source": [
    "covid_df = pd.read_csv('owid-covid-data.csv')"
   ]
  },
  {
   "cell_type": "markdown",
   "id": "9d347411-6e81-4775-809c-392c90fb3b4a",
   "metadata": {},
   "source": [
    "## 1"
   ]
  },
  {
   "cell_type": "code",
   "execution_count": 5,
   "id": "b9e47eec-f368-4270-9662-0587d9b1d19c",
   "metadata": {},
   "outputs": [
    {
     "name": "stdout",
     "output_type": "stream",
     "text": [
      "The dataframe has 429435 rows and 67 columns\n"
     ]
    }
   ],
   "source": [
    "#df size\n",
    "\n",
    "shape_df = covid_df.shape\n",
    "print(f\"The dataframe has {shape_df[0]} rows and {shape_df[1]} columns\")"
   ]
  },
  {
   "cell_type": "code",
   "execution_count": 6,
   "id": "c5b93399-48f7-41c4-b47d-cee45edd4592",
   "metadata": {},
   "outputs": [
    {
     "data": {
      "text/html": [
       "<div>\n",
       "<style scoped>\n",
       "    .dataframe tbody tr th:only-of-type {\n",
       "        vertical-align: middle;\n",
       "    }\n",
       "\n",
       "    .dataframe tbody tr th {\n",
       "        vertical-align: top;\n",
       "    }\n",
       "\n",
       "    .dataframe thead th {\n",
       "        text-align: right;\n",
       "    }\n",
       "</style>\n",
       "<table border=\"1\" class=\"dataframe\">\n",
       "  <thead>\n",
       "    <tr style=\"text-align: right;\">\n",
       "      <th></th>\n",
       "      <th>iso_code</th>\n",
       "      <th>continent</th>\n",
       "      <th>location</th>\n",
       "      <th>date</th>\n",
       "      <th>total_cases</th>\n",
       "      <th>new_cases</th>\n",
       "      <th>new_cases_smoothed</th>\n",
       "      <th>total_deaths</th>\n",
       "      <th>new_deaths</th>\n",
       "      <th>new_deaths_smoothed</th>\n",
       "      <th>...</th>\n",
       "      <th>male_smokers</th>\n",
       "      <th>handwashing_facilities</th>\n",
       "      <th>hospital_beds_per_thousand</th>\n",
       "      <th>life_expectancy</th>\n",
       "      <th>human_development_index</th>\n",
       "      <th>population</th>\n",
       "      <th>excess_mortality_cumulative_absolute</th>\n",
       "      <th>excess_mortality_cumulative</th>\n",
       "      <th>excess_mortality</th>\n",
       "      <th>excess_mortality_cumulative_per_million</th>\n",
       "    </tr>\n",
       "  </thead>\n",
       "  <tbody>\n",
       "    <tr>\n",
       "      <th>0</th>\n",
       "      <td>AFG</td>\n",
       "      <td>Asia</td>\n",
       "      <td>Afghanistan</td>\n",
       "      <td>2020-01-05</td>\n",
       "      <td>0.0</td>\n",
       "      <td>0.0</td>\n",
       "      <td>NaN</td>\n",
       "      <td>0.0</td>\n",
       "      <td>0.0</td>\n",
       "      <td>NaN</td>\n",
       "      <td>...</td>\n",
       "      <td>NaN</td>\n",
       "      <td>37.746</td>\n",
       "      <td>0.5</td>\n",
       "      <td>64.83</td>\n",
       "      <td>0.511</td>\n",
       "      <td>41128772</td>\n",
       "      <td>NaN</td>\n",
       "      <td>NaN</td>\n",
       "      <td>NaN</td>\n",
       "      <td>NaN</td>\n",
       "    </tr>\n",
       "    <tr>\n",
       "      <th>1</th>\n",
       "      <td>AFG</td>\n",
       "      <td>Asia</td>\n",
       "      <td>Afghanistan</td>\n",
       "      <td>2020-01-06</td>\n",
       "      <td>0.0</td>\n",
       "      <td>0.0</td>\n",
       "      <td>NaN</td>\n",
       "      <td>0.0</td>\n",
       "      <td>0.0</td>\n",
       "      <td>NaN</td>\n",
       "      <td>...</td>\n",
       "      <td>NaN</td>\n",
       "      <td>37.746</td>\n",
       "      <td>0.5</td>\n",
       "      <td>64.83</td>\n",
       "      <td>0.511</td>\n",
       "      <td>41128772</td>\n",
       "      <td>NaN</td>\n",
       "      <td>NaN</td>\n",
       "      <td>NaN</td>\n",
       "      <td>NaN</td>\n",
       "    </tr>\n",
       "    <tr>\n",
       "      <th>2</th>\n",
       "      <td>AFG</td>\n",
       "      <td>Asia</td>\n",
       "      <td>Afghanistan</td>\n",
       "      <td>2020-01-07</td>\n",
       "      <td>0.0</td>\n",
       "      <td>0.0</td>\n",
       "      <td>NaN</td>\n",
       "      <td>0.0</td>\n",
       "      <td>0.0</td>\n",
       "      <td>NaN</td>\n",
       "      <td>...</td>\n",
       "      <td>NaN</td>\n",
       "      <td>37.746</td>\n",
       "      <td>0.5</td>\n",
       "      <td>64.83</td>\n",
       "      <td>0.511</td>\n",
       "      <td>41128772</td>\n",
       "      <td>NaN</td>\n",
       "      <td>NaN</td>\n",
       "      <td>NaN</td>\n",
       "      <td>NaN</td>\n",
       "    </tr>\n",
       "    <tr>\n",
       "      <th>3</th>\n",
       "      <td>AFG</td>\n",
       "      <td>Asia</td>\n",
       "      <td>Afghanistan</td>\n",
       "      <td>2020-01-08</td>\n",
       "      <td>0.0</td>\n",
       "      <td>0.0</td>\n",
       "      <td>NaN</td>\n",
       "      <td>0.0</td>\n",
       "      <td>0.0</td>\n",
       "      <td>NaN</td>\n",
       "      <td>...</td>\n",
       "      <td>NaN</td>\n",
       "      <td>37.746</td>\n",
       "      <td>0.5</td>\n",
       "      <td>64.83</td>\n",
       "      <td>0.511</td>\n",
       "      <td>41128772</td>\n",
       "      <td>NaN</td>\n",
       "      <td>NaN</td>\n",
       "      <td>NaN</td>\n",
       "      <td>NaN</td>\n",
       "    </tr>\n",
       "    <tr>\n",
       "      <th>4</th>\n",
       "      <td>AFG</td>\n",
       "      <td>Asia</td>\n",
       "      <td>Afghanistan</td>\n",
       "      <td>2020-01-09</td>\n",
       "      <td>0.0</td>\n",
       "      <td>0.0</td>\n",
       "      <td>NaN</td>\n",
       "      <td>0.0</td>\n",
       "      <td>0.0</td>\n",
       "      <td>NaN</td>\n",
       "      <td>...</td>\n",
       "      <td>NaN</td>\n",
       "      <td>37.746</td>\n",
       "      <td>0.5</td>\n",
       "      <td>64.83</td>\n",
       "      <td>0.511</td>\n",
       "      <td>41128772</td>\n",
       "      <td>NaN</td>\n",
       "      <td>NaN</td>\n",
       "      <td>NaN</td>\n",
       "      <td>NaN</td>\n",
       "    </tr>\n",
       "  </tbody>\n",
       "</table>\n",
       "<p>5 rows × 67 columns</p>\n",
       "</div>"
      ],
      "text/plain": [
       "  iso_code continent     location        date  total_cases  new_cases  \\\n",
       "0      AFG      Asia  Afghanistan  2020-01-05          0.0        0.0   \n",
       "1      AFG      Asia  Afghanistan  2020-01-06          0.0        0.0   \n",
       "2      AFG      Asia  Afghanistan  2020-01-07          0.0        0.0   \n",
       "3      AFG      Asia  Afghanistan  2020-01-08          0.0        0.0   \n",
       "4      AFG      Asia  Afghanistan  2020-01-09          0.0        0.0   \n",
       "\n",
       "   new_cases_smoothed  total_deaths  new_deaths  new_deaths_smoothed  ...  \\\n",
       "0                 NaN           0.0         0.0                  NaN  ...   \n",
       "1                 NaN           0.0         0.0                  NaN  ...   \n",
       "2                 NaN           0.0         0.0                  NaN  ...   \n",
       "3                 NaN           0.0         0.0                  NaN  ...   \n",
       "4                 NaN           0.0         0.0                  NaN  ...   \n",
       "\n",
       "   male_smokers  handwashing_facilities  hospital_beds_per_thousand  \\\n",
       "0           NaN                  37.746                         0.5   \n",
       "1           NaN                  37.746                         0.5   \n",
       "2           NaN                  37.746                         0.5   \n",
       "3           NaN                  37.746                         0.5   \n",
       "4           NaN                  37.746                         0.5   \n",
       "\n",
       "   life_expectancy  human_development_index  population  \\\n",
       "0            64.83                    0.511    41128772   \n",
       "1            64.83                    0.511    41128772   \n",
       "2            64.83                    0.511    41128772   \n",
       "3            64.83                    0.511    41128772   \n",
       "4            64.83                    0.511    41128772   \n",
       "\n",
       "   excess_mortality_cumulative_absolute  excess_mortality_cumulative  \\\n",
       "0                                   NaN                          NaN   \n",
       "1                                   NaN                          NaN   \n",
       "2                                   NaN                          NaN   \n",
       "3                                   NaN                          NaN   \n",
       "4                                   NaN                          NaN   \n",
       "\n",
       "   excess_mortality  excess_mortality_cumulative_per_million  \n",
       "0               NaN                                      NaN  \n",
       "1               NaN                                      NaN  \n",
       "2               NaN                                      NaN  \n",
       "3               NaN                                      NaN  \n",
       "4               NaN                                      NaN  \n",
       "\n",
       "[5 rows x 67 columns]"
      ]
     },
     "execution_count": 6,
     "metadata": {},
     "output_type": "execute_result"
    }
   ],
   "source": [
    "#overview df\n",
    "\n",
    "covid_df.head()"
   ]
  },
  {
   "cell_type": "code",
   "execution_count": 7,
   "id": "ee5e7e29-974d-4b29-a104-982b1415b845",
   "metadata": {},
   "outputs": [
    {
     "name": "stdout",
     "output_type": "stream",
     "text": [
      "<class 'pandas.core.frame.DataFrame'>\n",
      "RangeIndex: 429435 entries, 0 to 429434\n",
      "Data columns (total 67 columns):\n",
      " #   Column                                      Non-Null Count   Dtype  \n",
      "---  ------                                      --------------   -----  \n",
      " 0   iso_code                                    429435 non-null  object \n",
      " 1   continent                                   402910 non-null  object \n",
      " 2   location                                    429435 non-null  object \n",
      " 3   date                                        429435 non-null  object \n",
      " 4   total_cases                                 411804 non-null  float64\n",
      " 5   new_cases                                   410159 non-null  float64\n",
      " 6   new_cases_smoothed                          408929 non-null  float64\n",
      " 7   total_deaths                                411804 non-null  float64\n",
      " 8   new_deaths                                  410608 non-null  float64\n",
      " 9   new_deaths_smoothed                         409378 non-null  float64\n",
      " 10  total_cases_per_million                     411804 non-null  float64\n",
      " 11  new_cases_per_million                       410159 non-null  float64\n",
      " 12  new_cases_smoothed_per_million              408929 non-null  float64\n",
      " 13  total_deaths_per_million                    411804 non-null  float64\n",
      " 14  new_deaths_per_million                      410608 non-null  float64\n",
      " 15  new_deaths_smoothed_per_million             409378 non-null  float64\n",
      " 16  reproduction_rate                           184817 non-null  float64\n",
      " 17  icu_patients                                39116 non-null   float64\n",
      " 18  icu_patients_per_million                    39116 non-null   float64\n",
      " 19  hosp_patients                               40656 non-null   float64\n",
      " 20  hosp_patients_per_million                   40656 non-null   float64\n",
      " 21  weekly_icu_admissions                       10993 non-null   float64\n",
      " 22  weekly_icu_admissions_per_million           10993 non-null   float64\n",
      " 23  weekly_hosp_admissions                      24497 non-null   float64\n",
      " 24  weekly_hosp_admissions_per_million          24497 non-null   float64\n",
      " 25  total_tests                                 79387 non-null   float64\n",
      " 26  new_tests                                   75403 non-null   float64\n",
      " 27  total_tests_per_thousand                    79387 non-null   float64\n",
      " 28  new_tests_per_thousand                      75403 non-null   float64\n",
      " 29  new_tests_smoothed                          103965 non-null  float64\n",
      " 30  new_tests_smoothed_per_thousand             103965 non-null  float64\n",
      " 31  positive_rate                               95927 non-null   float64\n",
      " 32  tests_per_case                              94348 non-null   float64\n",
      " 33  tests_units                                 106788 non-null  object \n",
      " 34  total_vaccinations                          85417 non-null   float64\n",
      " 35  people_vaccinated                           81132 non-null   float64\n",
      " 36  people_fully_vaccinated                     78061 non-null   float64\n",
      " 37  total_boosters                              53600 non-null   float64\n",
      " 38  new_vaccinations                            70971 non-null   float64\n",
      " 39  new_vaccinations_smoothed                   195029 non-null  float64\n",
      " 40  total_vaccinations_per_hundred              85417 non-null   float64\n",
      " 41  people_vaccinated_per_hundred               81132 non-null   float64\n",
      " 42  people_fully_vaccinated_per_hundred         78061 non-null   float64\n",
      " 43  total_boosters_per_hundred                  53600 non-null   float64\n",
      " 44  new_vaccinations_smoothed_per_million       195029 non-null  float64\n",
      " 45  new_people_vaccinated_smoothed              192177 non-null  float64\n",
      " 46  new_people_vaccinated_smoothed_per_hundred  192177 non-null  float64\n",
      " 47  stringency_index                            196190 non-null  float64\n",
      " 48  population_density                          360492 non-null  float64\n",
      " 49  median_age                                  334663 non-null  float64\n",
      " 50  aged_65_older                               323270 non-null  float64\n",
      " 51  aged_70_older                               331315 non-null  float64\n",
      " 52  gdp_per_capita                              328292 non-null  float64\n",
      " 53  extreme_poverty                             211996 non-null  float64\n",
      " 54  cardiovasc_death_rate                       328865 non-null  float64\n",
      " 55  diabetes_prevalence                         345911 non-null  float64\n",
      " 56  female_smokers                              247165 non-null  float64\n",
      " 57  male_smokers                                243817 non-null  float64\n",
      " 58  handwashing_facilities                      161741 non-null  float64\n",
      " 59  hospital_beds_per_thousand                  290689 non-null  float64\n",
      " 60  life_expectancy                             390299 non-null  float64\n",
      " 61  human_development_index                     319127 non-null  float64\n",
      " 62  population                                  429435 non-null  int64  \n",
      " 63  excess_mortality_cumulative_absolute        13411 non-null   float64\n",
      " 64  excess_mortality_cumulative                 13411 non-null   float64\n",
      " 65  excess_mortality                            13411 non-null   float64\n",
      " 66  excess_mortality_cumulative_per_million     13411 non-null   float64\n",
      "dtypes: float64(61), int64(1), object(5)\n",
      "memory usage: 219.5+ MB\n"
     ]
    }
   ],
   "source": [
    "#overview df1\n",
    "\n",
    "covid_df.info()"
   ]
  },
  {
   "cell_type": "code",
   "execution_count": 8,
   "id": "7cf57d07-f34f-40b3-ac2a-c11f0dcf5a29",
   "metadata": {},
   "outputs": [
    {
     "data": {
      "text/html": [
       "<div>\n",
       "<style scoped>\n",
       "    .dataframe tbody tr th:only-of-type {\n",
       "        vertical-align: middle;\n",
       "    }\n",
       "\n",
       "    .dataframe tbody tr th {\n",
       "        vertical-align: top;\n",
       "    }\n",
       "\n",
       "    .dataframe thead th {\n",
       "        text-align: right;\n",
       "    }\n",
       "</style>\n",
       "<table border=\"1\" class=\"dataframe\">\n",
       "  <thead>\n",
       "    <tr style=\"text-align: right;\">\n",
       "      <th></th>\n",
       "      <th>iso_code</th>\n",
       "      <th>continent</th>\n",
       "      <th>location</th>\n",
       "      <th>date</th>\n",
       "      <th>total_cases</th>\n",
       "      <th>new_cases</th>\n",
       "      <th>new_cases_smoothed</th>\n",
       "      <th>total_deaths</th>\n",
       "      <th>new_deaths</th>\n",
       "      <th>new_deaths_smoothed</th>\n",
       "      <th>...</th>\n",
       "      <th>male_smokers</th>\n",
       "      <th>handwashing_facilities</th>\n",
       "      <th>hospital_beds_per_thousand</th>\n",
       "      <th>life_expectancy</th>\n",
       "      <th>human_development_index</th>\n",
       "      <th>population</th>\n",
       "      <th>excess_mortality_cumulative_absolute</th>\n",
       "      <th>excess_mortality_cumulative</th>\n",
       "      <th>excess_mortality</th>\n",
       "      <th>excess_mortality_cumulative_per_million</th>\n",
       "    </tr>\n",
       "  </thead>\n",
       "  <tbody>\n",
       "    <tr>\n",
       "      <th>235320</th>\n",
       "      <td>MLT</td>\n",
       "      <td>Europe</td>\n",
       "      <td>Malta</td>\n",
       "      <td>2024-08-01</td>\n",
       "      <td>122716.0</td>\n",
       "      <td>0.0</td>\n",
       "      <td>19.857</td>\n",
       "      <td>921.0</td>\n",
       "      <td>0.0</td>\n",
       "      <td>0.429</td>\n",
       "      <td>...</td>\n",
       "      <td>30.2</td>\n",
       "      <td>NaN</td>\n",
       "      <td>4.485</td>\n",
       "      <td>82.53</td>\n",
       "      <td>0.895</td>\n",
       "      <td>533293</td>\n",
       "      <td>NaN</td>\n",
       "      <td>NaN</td>\n",
       "      <td>NaN</td>\n",
       "      <td>NaN</td>\n",
       "    </tr>\n",
       "    <tr>\n",
       "      <th>371272</th>\n",
       "      <td>CHE</td>\n",
       "      <td>Europe</td>\n",
       "      <td>Switzerland</td>\n",
       "      <td>2020-11-16</td>\n",
       "      <td>268349.0</td>\n",
       "      <td>0.0</td>\n",
       "      <td>5750.571</td>\n",
       "      <td>3485.0</td>\n",
       "      <td>0.0</td>\n",
       "      <td>90.714</td>\n",
       "      <td>...</td>\n",
       "      <td>28.9</td>\n",
       "      <td>NaN</td>\n",
       "      <td>4.530</td>\n",
       "      <td>83.78</td>\n",
       "      <td>0.955</td>\n",
       "      <td>8740471</td>\n",
       "      <td>NaN</td>\n",
       "      <td>NaN</td>\n",
       "      <td>NaN</td>\n",
       "      <td>NaN</td>\n",
       "    </tr>\n",
       "    <tr>\n",
       "      <th>217495</th>\n",
       "      <td>OWID_LIC</td>\n",
       "      <td>NaN</td>\n",
       "      <td>Low-income countries</td>\n",
       "      <td>2022-03-23</td>\n",
       "      <td>NaN</td>\n",
       "      <td>NaN</td>\n",
       "      <td>NaN</td>\n",
       "      <td>NaN</td>\n",
       "      <td>NaN</td>\n",
       "      <td>NaN</td>\n",
       "      <td>...</td>\n",
       "      <td>NaN</td>\n",
       "      <td>NaN</td>\n",
       "      <td>NaN</td>\n",
       "      <td>NaN</td>\n",
       "      <td>NaN</td>\n",
       "      <td>737604900</td>\n",
       "      <td>NaN</td>\n",
       "      <td>NaN</td>\n",
       "      <td>NaN</td>\n",
       "      <td>NaN</td>\n",
       "    </tr>\n",
       "    <tr>\n",
       "      <th>177025</th>\n",
       "      <td>IRN</td>\n",
       "      <td>Asia</td>\n",
       "      <td>Iran</td>\n",
       "      <td>2020-05-04</td>\n",
       "      <td>96448.0</td>\n",
       "      <td>0.0</td>\n",
       "      <td>1017.143</td>\n",
       "      <td>6156.0</td>\n",
       "      <td>0.0</td>\n",
       "      <td>72.286</td>\n",
       "      <td>...</td>\n",
       "      <td>21.1</td>\n",
       "      <td>NaN</td>\n",
       "      <td>1.500</td>\n",
       "      <td>76.68</td>\n",
       "      <td>0.783</td>\n",
       "      <td>88550568</td>\n",
       "      <td>NaN</td>\n",
       "      <td>NaN</td>\n",
       "      <td>NaN</td>\n",
       "      <td>NaN</td>\n",
       "    </tr>\n",
       "    <tr>\n",
       "      <th>315546</th>\n",
       "      <td>ROU</td>\n",
       "      <td>Europe</td>\n",
       "      <td>Romania</td>\n",
       "      <td>2023-02-15</td>\n",
       "      <td>3331005.0</td>\n",
       "      <td>0.0</td>\n",
       "      <td>457.143</td>\n",
       "      <td>67650.0</td>\n",
       "      <td>0.0</td>\n",
       "      <td>4.429</td>\n",
       "      <td>...</td>\n",
       "      <td>37.1</td>\n",
       "      <td>NaN</td>\n",
       "      <td>6.892</td>\n",
       "      <td>76.05</td>\n",
       "      <td>0.828</td>\n",
       "      <td>19659270</td>\n",
       "      <td>NaN</td>\n",
       "      <td>NaN</td>\n",
       "      <td>NaN</td>\n",
       "      <td>NaN</td>\n",
       "    </tr>\n",
       "    <tr>\n",
       "      <th>124292</th>\n",
       "      <td>FLK</td>\n",
       "      <td>South America</td>\n",
       "      <td>Falkland Islands</td>\n",
       "      <td>2021-09-17</td>\n",
       "      <td>64.0</td>\n",
       "      <td>0.0</td>\n",
       "      <td>0.000</td>\n",
       "      <td>0.0</td>\n",
       "      <td>0.0</td>\n",
       "      <td>0.000</td>\n",
       "      <td>...</td>\n",
       "      <td>NaN</td>\n",
       "      <td>NaN</td>\n",
       "      <td>NaN</td>\n",
       "      <td>81.44</td>\n",
       "      <td>NaN</td>\n",
       "      <td>3801</td>\n",
       "      <td>NaN</td>\n",
       "      <td>NaN</td>\n",
       "      <td>NaN</td>\n",
       "      <td>NaN</td>\n",
       "    </tr>\n",
       "    <tr>\n",
       "      <th>49634</th>\n",
       "      <td>BWA</td>\n",
       "      <td>Africa</td>\n",
       "      <td>Botswana</td>\n",
       "      <td>2022-12-14</td>\n",
       "      <td>327471.0</td>\n",
       "      <td>0.0</td>\n",
       "      <td>58.857</td>\n",
       "      <td>2786.0</td>\n",
       "      <td>0.0</td>\n",
       "      <td>0.143</td>\n",
       "      <td>...</td>\n",
       "      <td>34.4</td>\n",
       "      <td>NaN</td>\n",
       "      <td>1.800</td>\n",
       "      <td>69.59</td>\n",
       "      <td>0.735</td>\n",
       "      <td>2630300</td>\n",
       "      <td>NaN</td>\n",
       "      <td>NaN</td>\n",
       "      <td>NaN</td>\n",
       "      <td>NaN</td>\n",
       "    </tr>\n",
       "    <tr>\n",
       "      <th>243938</th>\n",
       "      <td>MEX</td>\n",
       "      <td>North America</td>\n",
       "      <td>Mexico</td>\n",
       "      <td>2020-09-01</td>\n",
       "      <td>654773.0</td>\n",
       "      <td>0.0</td>\n",
       "      <td>5604.286</td>\n",
       "      <td>82502.0</td>\n",
       "      <td>0.0</td>\n",
       "      <td>533.000</td>\n",
       "      <td>...</td>\n",
       "      <td>21.4</td>\n",
       "      <td>87.847</td>\n",
       "      <td>1.380</td>\n",
       "      <td>75.05</td>\n",
       "      <td>0.779</td>\n",
       "      <td>127504120</td>\n",
       "      <td>NaN</td>\n",
       "      <td>NaN</td>\n",
       "      <td>NaN</td>\n",
       "      <td>NaN</td>\n",
       "    </tr>\n",
       "    <tr>\n",
       "      <th>396298</th>\n",
       "      <td>TUV</td>\n",
       "      <td>Oceania</td>\n",
       "      <td>Tuvalu</td>\n",
       "      <td>2023-05-06</td>\n",
       "      <td>2779.0</td>\n",
       "      <td>0.0</td>\n",
       "      <td>0.000</td>\n",
       "      <td>0.0</td>\n",
       "      <td>0.0</td>\n",
       "      <td>0.000</td>\n",
       "      <td>...</td>\n",
       "      <td>NaN</td>\n",
       "      <td>NaN</td>\n",
       "      <td>NaN</td>\n",
       "      <td>67.57</td>\n",
       "      <td>NaN</td>\n",
       "      <td>11335</td>\n",
       "      <td>NaN</td>\n",
       "      <td>NaN</td>\n",
       "      <td>NaN</td>\n",
       "      <td>NaN</td>\n",
       "    </tr>\n",
       "    <tr>\n",
       "      <th>84904</th>\n",
       "      <td>CIV</td>\n",
       "      <td>Africa</td>\n",
       "      <td>Cote d'Ivoire</td>\n",
       "      <td>2023-04-09</td>\n",
       "      <td>88308.0</td>\n",
       "      <td>7.0</td>\n",
       "      <td>1.000</td>\n",
       "      <td>834.0</td>\n",
       "      <td>0.0</td>\n",
       "      <td>0.000</td>\n",
       "      <td>...</td>\n",
       "      <td>NaN</td>\n",
       "      <td>19.351</td>\n",
       "      <td>NaN</td>\n",
       "      <td>57.78</td>\n",
       "      <td>0.538</td>\n",
       "      <td>28160548</td>\n",
       "      <td>NaN</td>\n",
       "      <td>NaN</td>\n",
       "      <td>NaN</td>\n",
       "      <td>NaN</td>\n",
       "    </tr>\n",
       "  </tbody>\n",
       "</table>\n",
       "<p>10 rows × 67 columns</p>\n",
       "</div>"
      ],
      "text/plain": [
       "        iso_code      continent              location        date  \\\n",
       "235320       MLT         Europe                 Malta  2024-08-01   \n",
       "371272       CHE         Europe           Switzerland  2020-11-16   \n",
       "217495  OWID_LIC            NaN  Low-income countries  2022-03-23   \n",
       "177025       IRN           Asia                  Iran  2020-05-04   \n",
       "315546       ROU         Europe               Romania  2023-02-15   \n",
       "124292       FLK  South America      Falkland Islands  2021-09-17   \n",
       "49634        BWA         Africa              Botswana  2022-12-14   \n",
       "243938       MEX  North America                Mexico  2020-09-01   \n",
       "396298       TUV        Oceania                Tuvalu  2023-05-06   \n",
       "84904        CIV         Africa         Cote d'Ivoire  2023-04-09   \n",
       "\n",
       "        total_cases  new_cases  new_cases_smoothed  total_deaths  new_deaths  \\\n",
       "235320     122716.0        0.0              19.857         921.0         0.0   \n",
       "371272     268349.0        0.0            5750.571        3485.0         0.0   \n",
       "217495          NaN        NaN                 NaN           NaN         NaN   \n",
       "177025      96448.0        0.0            1017.143        6156.0         0.0   \n",
       "315546    3331005.0        0.0             457.143       67650.0         0.0   \n",
       "124292         64.0        0.0               0.000           0.0         0.0   \n",
       "49634      327471.0        0.0              58.857        2786.0         0.0   \n",
       "243938     654773.0        0.0            5604.286       82502.0         0.0   \n",
       "396298       2779.0        0.0               0.000           0.0         0.0   \n",
       "84904       88308.0        7.0               1.000         834.0         0.0   \n",
       "\n",
       "        new_deaths_smoothed  ...  male_smokers  handwashing_facilities  \\\n",
       "235320                0.429  ...          30.2                     NaN   \n",
       "371272               90.714  ...          28.9                     NaN   \n",
       "217495                  NaN  ...           NaN                     NaN   \n",
       "177025               72.286  ...          21.1                     NaN   \n",
       "315546                4.429  ...          37.1                     NaN   \n",
       "124292                0.000  ...           NaN                     NaN   \n",
       "49634                 0.143  ...          34.4                     NaN   \n",
       "243938              533.000  ...          21.4                  87.847   \n",
       "396298                0.000  ...           NaN                     NaN   \n",
       "84904                 0.000  ...           NaN                  19.351   \n",
       "\n",
       "        hospital_beds_per_thousand  life_expectancy  human_development_index  \\\n",
       "235320                       4.485            82.53                    0.895   \n",
       "371272                       4.530            83.78                    0.955   \n",
       "217495                         NaN              NaN                      NaN   \n",
       "177025                       1.500            76.68                    0.783   \n",
       "315546                       6.892            76.05                    0.828   \n",
       "124292                         NaN            81.44                      NaN   \n",
       "49634                        1.800            69.59                    0.735   \n",
       "243938                       1.380            75.05                    0.779   \n",
       "396298                         NaN            67.57                      NaN   \n",
       "84904                          NaN            57.78                    0.538   \n",
       "\n",
       "        population  excess_mortality_cumulative_absolute  \\\n",
       "235320      533293                                   NaN   \n",
       "371272     8740471                                   NaN   \n",
       "217495   737604900                                   NaN   \n",
       "177025    88550568                                   NaN   \n",
       "315546    19659270                                   NaN   \n",
       "124292        3801                                   NaN   \n",
       "49634      2630300                                   NaN   \n",
       "243938   127504120                                   NaN   \n",
       "396298       11335                                   NaN   \n",
       "84904     28160548                                   NaN   \n",
       "\n",
       "        excess_mortality_cumulative  excess_mortality  \\\n",
       "235320                          NaN               NaN   \n",
       "371272                          NaN               NaN   \n",
       "217495                          NaN               NaN   \n",
       "177025                          NaN               NaN   \n",
       "315546                          NaN               NaN   \n",
       "124292                          NaN               NaN   \n",
       "49634                           NaN               NaN   \n",
       "243938                          NaN               NaN   \n",
       "396298                          NaN               NaN   \n",
       "84904                           NaN               NaN   \n",
       "\n",
       "        excess_mortality_cumulative_per_million  \n",
       "235320                                      NaN  \n",
       "371272                                      NaN  \n",
       "217495                                      NaN  \n",
       "177025                                      NaN  \n",
       "315546                                      NaN  \n",
       "124292                                      NaN  \n",
       "49634                                       NaN  \n",
       "243938                                      NaN  \n",
       "396298                                      NaN  \n",
       "84904                                       NaN  \n",
       "\n",
       "[10 rows x 67 columns]"
      ]
     },
     "execution_count": 8,
     "metadata": {},
     "output_type": "execute_result"
    }
   ],
   "source": [
    "#overview df1\n",
    "\n",
    "covid_df.sample(10)"
   ]
  },
  {
   "cell_type": "code",
   "execution_count": 9,
   "id": "da3027cb-3703-47c1-97e9-1dd1eaca9805",
   "metadata": {},
   "outputs": [
    {
     "name": "stdout",
     "output_type": "stream",
     "text": [
      "iso_code                                        0\n",
      "continent                                   26525\n",
      "location                                        0\n",
      "date                                            0\n",
      "total_cases                                 17631\n",
      "                                            ...  \n",
      "population                                      0\n",
      "excess_mortality_cumulative_absolute       416024\n",
      "excess_mortality_cumulative                416024\n",
      "excess_mortality                           416024\n",
      "excess_mortality_cumulative_per_million    416024\n",
      "Length: 67, dtype: int64\n"
     ]
    }
   ],
   "source": [
    "# check on null\n",
    "print(covid_df.isna().sum())"
   ]
  },
  {
   "cell_type": "code",
   "execution_count": 10,
   "id": "1fc5528d-722b-42fe-b2f1-7ca942cd010c",
   "metadata": {},
   "outputs": [
    {
     "name": "stdout",
     "output_type": "stream",
     "text": [
      "Duplicated rows: 0\n"
     ]
    }
   ],
   "source": [
    "#controllo duplicati\n",
    "\n",
    "print(f\"Duplicated rows: {covid_df.duplicated().sum()}\")"
   ]
  },
  {
   "cell_type": "markdown",
   "id": "c754baa9-421d-4a02-9425-d75522e6b6f5",
   "metadata": {},
   "source": [
    "# 2"
   ]
  },
  {
   "cell_type": "markdown",
   "id": "e648cca1-160a-4614-9909-1b93d12f66ac",
   "metadata": {},
   "source": [
    "## 2a \n",
    "You are asked to find, for each continent, the number of cases since the beginning of the pandemic"
   ]
  },
  {
   "cell_type": "code",
   "execution_count": 13,
   "id": "d6edb9ca-5baa-4281-8b3b-e94ef3c0e80b",
   "metadata": {},
   "outputs": [],
   "source": [
    "df_clean=covid_df.dropna(subset=[\"continent\", \"location\", \"total_cases\"])"
   ]
  },
  {
   "cell_type": "code",
   "execution_count": 14,
   "id": "66c5b542-3bbe-436d-8648-48fd203c1407",
   "metadata": {},
   "outputs": [
    {
     "name": "stdout",
     "output_type": "stream",
     "text": [
      "continent      location    \n",
      "Africa         Algeria          272139.0\n",
      "               Angola           107481.0\n",
      "               Benin             28036.0\n",
      "               Botswana         330696.0\n",
      "               Burkina Faso      22139.0\n",
      "                                 ...    \n",
      "South America  Paraguay         735759.0\n",
      "               Peru            4526977.0\n",
      "               Suriname          82501.0\n",
      "               Uruguay         1041346.0\n",
      "               Venezuela        552695.0\n",
      "Name: total_cases, Length: 234, dtype: float64\n"
     ]
    }
   ],
   "source": [
    "max_cases_by_location = df_clean.groupby(['continent', 'location'])['total_cases'].max()\n",
    "print(max_cases_by_location)"
   ]
  },
  {
   "cell_type": "code",
   "execution_count": 15,
   "id": "a76b63f8-51cb-48de-855a-851647180365",
   "metadata": {},
   "outputs": [
    {
     "name": "stdout",
     "output_type": "stream",
     "text": [
      "continent\n",
      "Africa            13145540.0\n",
      "Asia             301532347.0\n",
      "Europe           252916868.0\n",
      "North America    124492666.0\n",
      "Oceania           15003352.0\n",
      "South America     68809418.0\n",
      "Name: total_cases, dtype: float64\n"
     ]
    }
   ],
   "source": [
    "\n",
    "total_cases_per_continent = max_cases_by_location.groupby(\"continent\").sum()\n",
    "print(total_cases_per_continent)"
   ]
  },
  {
   "cell_type": "markdown",
   "id": "b6833081-2270-481a-8e6f-5e9b5ffd2d22",
   "metadata": {},
   "source": [
    "# 2b\n",
    "You are asked to find, for each continent, the percentage in relation to the world total of the number of cases"
   ]
  },
  {
   "cell_type": "code",
   "execution_count": 17,
   "id": "89b04301-080a-4973-a596-bab39e1f6f2d",
   "metadata": {},
   "outputs": [
    {
     "name": "stdout",
     "output_type": "stream",
     "text": [
      "775900191.0\n"
     ]
    }
   ],
   "source": [
    "# World total calculation\n",
    "world_total = total_cases_per_continent.sum()\n",
    "print(world_total)"
   ]
  },
  {
   "cell_type": "code",
   "execution_count": 18,
   "id": "76423e83-e3b0-4237-abd4-72751deb5584",
   "metadata": {},
   "outputs": [
    {
     "name": "stdout",
     "output_type": "stream",
     "text": [
      "continent\n",
      "Africa            1.694231\n",
      "Asia             38.862260\n",
      "Europe           32.596572\n",
      "North America    16.044933\n",
      "Oceania           1.933670\n",
      "South America     8.868334\n",
      "Name: total_cases, dtype: float64\n"
     ]
    }
   ],
   "source": [
    "# Percentage calculation by continent\n",
    "percentage_per_continent = ( total_cases_per_continent / world_total) * 100\n",
    "\n",
    "print(percentage_per_continent)"
   ]
  },
  {
   "cell_type": "markdown",
   "id": "47fdfae6-39f1-42ee-995b-eb330405b4be",
   "metadata": {},
   "source": [
    "## 3"
   ]
  },
  {
   "cell_type": "markdown",
   "id": "2e31d67a-166e-4715-8be7-e74d35409f67",
   "metadata": {},
   "source": [
    "## 3a \n",
    "Select the data for Italy in 2022 and show with appropriate graphs the evolution of the total cases from the beginning to the end of the year"
   ]
  },
  {
   "cell_type": "code",
   "execution_count": 21,
   "id": "cdd1e34d-0e9f-4fd3-b976-0234099810a6",
   "metadata": {
    "scrolled": true
   },
   "outputs": [
    {
     "name": "stdout",
     "output_type": "stream",
     "text": [
      "       iso_code continent location       date  total_cases  new_cases  \\\n",
      "186002      ITA    Europe    Italy 2022-01-01    5622431.0        0.0   \n",
      "186003      ITA    Europe    Italy 2022-01-02    6267035.0   644604.0   \n",
      "186004      ITA    Europe    Italy 2022-01-03    6267035.0        0.0   \n",
      "186005      ITA    Europe    Italy 2022-01-04    6267035.0        0.0   \n",
      "186006      ITA    Europe    Italy 2022-01-05    6267035.0        0.0   \n",
      "\n",
      "        new_cases_smoothed  total_deaths  new_deaths  new_deaths_smoothed  \\\n",
      "186002           36797.000      136530.0         0.0              140.857   \n",
      "186003           92086.286      137513.0       983.0              140.429   \n",
      "186004           92086.286      137513.0         0.0              140.429   \n",
      "186005           92086.286      137513.0         0.0              140.429   \n",
      "186006           92086.286      137513.0         0.0              140.429   \n",
      "\n",
      "        ...  male_smokers  handwashing_facilities  hospital_beds_per_thousand  \\\n",
      "186002  ...          27.8                     NaN                        3.18   \n",
      "186003  ...          27.8                     NaN                        3.18   \n",
      "186004  ...          27.8                     NaN                        3.18   \n",
      "186005  ...          27.8                     NaN                        3.18   \n",
      "186006  ...          27.8                     NaN                        3.18   \n",
      "\n",
      "        life_expectancy  human_development_index  population  \\\n",
      "186002            83.51                    0.892    59037472   \n",
      "186003            83.51                    0.892    59037472   \n",
      "186004            83.51                    0.892    59037472   \n",
      "186005            83.51                    0.892    59037472   \n",
      "186006            83.51                    0.892    59037472   \n",
      "\n",
      "        excess_mortality_cumulative_absolute  excess_mortality_cumulative  \\\n",
      "186002                                   NaN                          NaN   \n",
      "186003                              168226.3                        12.99   \n",
      "186004                                   NaN                          NaN   \n",
      "186005                                   NaN                          NaN   \n",
      "186006                                   NaN                          NaN   \n",
      "\n",
      "        excess_mortality  excess_mortality_cumulative_per_million  \n",
      "186002               NaN                                      NaN  \n",
      "186003              8.06                                2849.4834  \n",
      "186004               NaN                                      NaN  \n",
      "186005               NaN                                      NaN  \n",
      "186006               NaN                                      NaN  \n",
      "\n",
      "[5 rows x 67 columns]\n"
     ]
    },
    {
     "name": "stderr",
     "output_type": "stream",
     "text": [
      "C:\\Users\\manue\\AppData\\Local\\Temp\\ipykernel_16908\\4080365461.py:2: SettingWithCopyWarning: \n",
      "A value is trying to be set on a copy of a slice from a DataFrame.\n",
      "Try using .loc[row_indexer,col_indexer] = value instead\n",
      "\n",
      "See the caveats in the documentation: https://pandas.pydata.org/pandas-docs/stable/user_guide/indexing.html#returning-a-view-versus-a-copy\n",
      "  df_clean['date'] = pd.to_datetime(df_clean['date'])\n"
     ]
    }
   ],
   "source": [
    "\n",
    "# Conversion of the ‘date’ column to datetime format\n",
    "df_clean['date'] = pd.to_datetime(df_clean['date'])\n",
    "\n",
    "# Data filter for Italy in 2022\n",
    "italia_2022 = df_clean.loc[(df_clean['location'] == 'Italy') & (df_clean['date'].dt.year == 2022)]\n",
    "\n",
    "#Filtering check (show first lines)\n",
    "print(italia_2022.head())"
   ]
  },
  {
   "cell_type": "code",
   "execution_count": 22,
   "id": "8a53f00e-4687-455b-aae2-4f511d0a601f",
   "metadata": {},
   "outputs": [],
   "source": [
    "import seaborn as sns\n"
   ]
  },
  {
   "cell_type": "code",
   "execution_count": 23,
   "id": "201940ed-8496-4e57-892f-c562978a2643",
   "metadata": {},
   "outputs": [
    {
     "data": {
      "image/png": "[encoded data removed]",
      "text/plain": [
       "<Figure size 1000x600 with 1 Axes>"
      ]
     },
     "metadata": {},
     "output_type": "display_data"
    }
   ],
   "source": [
    "sns.set(style=\"whitegrid\")\n",
    "Evolution_total_cases_Italy_2022 = sns.lineplot(data=italia_2022, x='date', y='total_cases')\n",
    "\n",
    "# Adding title and labels\n",
    "Evolution_total_cases_Italy_2022.set_title(\"Evolution of total cases in Italy in 2022\", fontsize=14)\n",
    "Evolution_total_cases_Italy_2022.set_xlabel(\"Date\", fontsize=12)\n",
    "Evolution_total_cases_Italy_2022.set_ylabel(\"New cases\", fontsize=12)\n",
    "\n",
    "# Show graphic\n",
    "Evolution_total_cases_Italy_2022.figure.set_size_inches(10, 6)"
   ]
  },
  {
   "cell_type": "markdown",
   "id": "bf0ba548-af5d-4986-a0ae-65895b570641",
   "metadata": {},
   "source": [
    "## 3b\n",
    "\n",
    "select the data for Italy in 2022 and show with appropriate graphs the number of new cases with respect to the date"
   ]
  },
  {
   "cell_type": "code",
   "execution_count": 25,
   "id": "1f615f22-b2c6-4a17-8c9a-0dee860512b2",
   "metadata": {
    "scrolled": true
   },
   "outputs": [
    {
     "data": {
      "image/png": "[encoded data removed]",
      "text/plain": [
       "<Figure size 1500x600 with 1 Axes>"
      ]
     },
     "metadata": {},
     "output_type": "display_data"
    }
   ],
   "source": [
    "#ES 3b\n",
    "# sns.lineplot(x=italia_2022['date'], y=italia_2022['new_cases'], color='red\n",
    "\n",
    "plot = sns.lineplot(data=italia_2022, x='date', y='new_cases', color=\"red\")\n",
    "\n",
    "# Adding title and labels\n",
    "plot.set_title(\"Number of new cases in Italy in 2022\", fontsize=14)\n",
    "plot.set_xlabel(\"Date\", fontsize=12)\n",
    "plot.set_ylabel(\"New cases\", fontsize=12)\n",
    "\n",
    "# Show graphic\n",
    "plot.figure.set_size_inches(15, 6)\n",
    "                    "
   ]
  },
  {
   "cell_type": "markdown",
   "id": "cf9a2927-23dc-4ade-99ed-3d1874e45dcf",
   "metadata": {},
   "source": [
    "## 3k\n",
    "As new cases are recorded weekly, filter out data that have no measurements"
   ]
  },
  {
   "cell_type": "code",
   "execution_count": 27,
   "id": "3653389e-5b4b-4756-b311-71377906e224",
   "metadata": {},
   "outputs": [
    {
     "name": "stdout",
     "output_type": "stream",
     "text": [
      "Days with NaN values in new cases: 0\n",
      "Empty DataFrame\n",
      "Columns: [date, new_cases]\n",
      "Index: []\n"
     ]
    }
   ],
   "source": [
    "# Filter days with NaN values in the ‘new_cases’ column\n",
    "italia_2022_na = italia_2022[italia_2022['new_cases'].isna()]\n",
    "\n",
    "print(f\"Days with NaN values in new cases: {italia_2022_na.shape[0]}\")\n",
    "\n",
    "print(italia_2022_na[['date', 'new_cases']])"
   ]
  },
  {
   "cell_type": "code",
   "execution_count": 28,
   "id": "ac2d16c0-6b1f-42f1-9cb7-b4cbdacf774e",
   "metadata": {},
   "outputs": [
    {
     "name": "stdout",
     "output_type": "stream",
     "text": [
      "Days with zero new cases: 313\n",
      "             date  new_cases\n",
      "186002 2022-01-01        0.0\n",
      "186004 2022-01-03        0.0\n",
      "186005 2022-01-04        0.0\n",
      "186006 2022-01-05        0.0\n",
      "186007 2022-01-06        0.0\n",
      "...           ...        ...\n",
      "186362 2022-12-27        0.0\n",
      "186363 2022-12-28        0.0\n",
      "186364 2022-12-29        0.0\n",
      "186365 2022-12-30        0.0\n",
      "186366 2022-12-31        0.0\n",
      "\n",
      "[313 rows x 2 columns]\n"
     ]
    }
   ],
   "source": [
    "#check if there are 0 values\n",
    "\n",
    "#filter the days with zero in the new cases\n",
    "italia_2022_zero = italia_2022[italia_2022['new_cases'] == 0]\n",
    "\n",
    "# Control and display of days with zero\n",
    "print(f\"Days with zero new cases: {italia_2022_zero.shape[0]}\")\n",
    "\n",
    "print(italia_2022_zero[['date', 'new_cases']])\n"
   ]
  },
  {
   "cell_type": "code",
   "execution_count": 110,
   "id": "051b0fb8-0d97-47b8-9866-c05147205b94",
   "metadata": {},
   "outputs": [
    {
     "name": "stdout",
     "output_type": "stream",
     "text": [
      "Total number of days with zero new cases: 313\n"
     ]
    },
    {
     "data": {
      "image/png": "[encoded data removed]",
      "text/plain": [
       "<Figure size 640x480 with 1 Axes>"
      ]
     },
     "metadata": {},
     "output_type": "display_data"
    }
   ],
   "source": [
    "italia_2022_zero.loc[:, 'month'] = italia_2022_zero['date'].dt.month\n",
    "\n",
    "sns.countplot(x=\"month\", data=italia_2022_zero, hue=\"month\", palette=\"Blues\", legend=False)\n",
    "\n",
    "total_zero = (italia_2022_zero['new_cases'] == 0).sum()\n",
    "print(f\"Total number of days with zero new cases: {total_zero}\")"
   ]
  },
  {
   "cell_type": "markdown",
   "id": "40091be5-6e11-4ab8-98a4-f54cc90201ef",
   "metadata": {},
   "source": [
    "# 4\n",
    "Concerning the nations of Italy, Germany and France show in a boxplot the difference between these nations regarding the number of patients in intensive care units (ICUs) from May 2022 (inclusive) to April 2023 (inclusive)\n"
   ]
  },
  {
   "cell_type": "code",
   "execution_count": 75,
   "id": "f35cdff4-fd08-4655-b545-c179957529f9",
   "metadata": {},
   "outputs": [
    {
     "data": {
      "text/plain": [
       "<Axes: xlabel='location', ylabel='icu_patients'>"
      ]
     },
     "execution_count": 75,
     "metadata": {},
     "output_type": "execute_result"
    },
    {
     "data": {
      "image/png": "[encoded data removed]",
      "text/plain": [
       "<Figure size 640x480 with 1 Axes>"
      ]
     },
     "metadata": {},
     "output_type": "display_data"
    }
   ],
   "source": [
    "# Filter data for Italy, Germany and France\n",
    "df_ita_ger_fra = df_clean[df_clean['location'].isin(['Italy', 'Germany', 'France'])]\n",
    "\n",
    "df_ita_ger_fra.loc[:, \"date\"] = pd.to_datetime(df_ita_ger_fra[\"date\"])\n",
    "\n",
    "# Filter data from 1st may 2022 to 30 April 2023\n",
    "df_range_time = df_ita_ger_fra[(df_ita_ger_fra['date'] >= '2022-05-01') & (df_ita_ger_fra['date'] <= '2023-04-30')]\n",
    "\n",
    "# boxplot intensive care unit\n",
    "sns.boxplot(x='location', y='icu_patients', data=df_range_time, \n",
    "            hue='location', palette=['red', 'green', 'blue']) "
   ]
  },
  {
   "cell_type": "markdown",
   "id": "ff33dd70-d2f0-4311-ac0f-44354ab66421",
   "metadata": {},
   "source": [
    "## a. Write a short comment on intensive care patients\n",
    "\n",
    "It appears that the number of intensive care admissions in Italy was notably lower than in France and Germany during the period under consideration. Germany, despite having a higher total number of cases, exhibits a comparable distribution to France in terms of average values."
   ]
  },
  {
   "cell_type": "markdown",
   "id": "af7f7f66-fd17-4bf8-8fd7-0033b5f7cbf1",
   "metadata": {},
   "source": [
    "## 5"
   ]
  },
  {
   "cell_type": "markdown",
   "id": "8856a215-1bbc-4d21-b25f-e0cec64b36c0",
   "metadata": {},
   "source": [
    "Es.a Show the total number of hospitalised patients for each of Italy, Germany, France and Spain in 2023."
   ]
  },
  {
   "cell_type": "code",
   "execution_count": 80,
   "id": "c4efee84-86a6-4718-b473-4d6b99bada54",
   "metadata": {},
   "outputs": [
    {
     "name": "stdout",
     "output_type": "stream",
     "text": [
      "italy_hospitalized 1175272.0\n",
      "germany_hospitalized 0.0\n",
      "france_hospitalized 1382574.0\n",
      "spain_hospitalized 354602.0\n"
     ]
    }
   ],
   "source": [
    "# Filtering data for the year 2023\n",
    "df_2023 = df_clean[(df_clean['date'] >= '2023-01-01') & (df_clean['date'] <= '2023-12-31')]\n",
    "\n",
    "# Hospitalised 2023 divided by State\n",
    "italy_hospitalized = df_2023[df_2023['location'] == 'Italy']['hosp_patients'].sum()\n",
    "germany_hospitalized = df_2023[df_2023['location'] == 'Germany']['hosp_patients'].sum()\n",
    "france_hospitalized = df_2023[df_2023['location'] == 'France']['hosp_patients'].sum()\n",
    "spain_hospitalized = df_2023[df_2023['location'] == 'Spain']['hosp_patients'].sum()\n",
    "\n",
    "print('italy_hospitalized',italy_hospitalized)\n",
    "print('germany_hospitalized',germany_hospitalized)\n",
    "print('france_hospitalized',france_hospitalized)\n",
    "print('spain_hospitalized',spain_hospitalized)"
   ]
  },
  {
   "cell_type": "code",
   "execution_count": 82,
   "id": "3ebdbecb-c128-444e-a332-608000e8efe5",
   "metadata": {},
   "outputs": [
    {
     "name": "stdout",
     "output_type": "stream",
     "text": [
      "365\n",
      "0\n"
     ]
    }
   ],
   "source": [
    "# Check on Germany's 0 value\n",
    "\n",
    "germany_data = df_2023[df_2023['location'] == 'Germany']\n",
    "print(germany_data['hosp_patients'].isna().sum())\n",
    "print(germany_data['hosp_patients'].notna().sum())  "
   ]
  },
  {
   "cell_type": "code",
   "execution_count": 84,
   "id": "fe2d75b2-1f89-4caa-815e-a35ca3134566",
   "metadata": {},
   "outputs": [
    {
     "name": "stdout",
     "output_type": "stream",
     "text": [
      "(365, 67)\n"
     ]
    }
   ],
   "source": [
    "print(germany_data.shape)"
   ]
  },
  {
   "cell_type": "code",
   "execution_count": 86,
   "id": "b8722d1f-9550-43b9-a9b7-38aced72adbb",
   "metadata": {},
   "outputs": [
    {
     "name": "stdout",
     "output_type": "stream",
     "text": [
      "count    0.0\n",
      "mean     NaN\n",
      "std      NaN\n",
      "min      NaN\n",
      "25%      NaN\n",
      "50%      NaN\n",
      "75%      NaN\n",
      "max      NaN\n",
      "Name: hosp_patients, dtype: float64\n"
     ]
    }
   ],
   "source": [
    "print(germany_data['hosp_patients'].describe())"
   ]
  },
  {
   "cell_type": "markdown",
   "id": "d9098420-dd7f-4c76-88e1-67feab10ff77",
   "metadata": {},
   "source": [
    "##  5b\n",
    "Check for null values in the ‘hosp_patients’ column"
   ]
  },
  {
   "cell_type": "code",
   "execution_count": 89,
   "id": "dc1036ca-de86-43c5-a1c7-2b2d45402c51",
   "metadata": {},
   "outputs": [
    {
     "name": "stdout",
     "output_type": "stream",
     "text": [
      "Null values on 'hosp_patients': 80401\n"
     ]
    }
   ],
   "source": [
    "null_hosp_patients = df_2023['hosp_patients'].isna().sum()\n",
    "print(f\"Null values on 'hosp_patients': {null_hosp_patients}\")\n"
   ]
  },
  {
   "cell_type": "markdown",
   "id": "8666f099-4430-416d-9736-d616447d891b",
   "metadata": {},
   "source": [
    "# Comment on null data for Germany\n",
    "The data for Germany for 2023 in the column *hosp_patients* are completely null, as indicated by the null count of 365 and the absence of valid values (notna() equal to 0). This makes it impossible to use imputation techniques such as mean or median substitution.\n",
    "\n",
    "# Impossibility of substitution\n",
    "As COVID-19 hospital admissions are influenced by variables such as\n",
    "- Local health policies,\n",
    "- Effects of viral variants,\n",
    "- Temporal specificities, \n",
    "\n",
    "The use of data from other countries or years would be unjustified and would compromise the accuracy of the analysis. \n",
    "\n",
    "**Conclusion**:  \n",
    "The best case scenario would be to exclude Germany from the analysis if it is considered that missing data would compromise the accuracy of the conclusions."
   ]
  },
  {
   "cell_type": "code",
   "execution_count": null,
   "id": "32878031-aa59-414c-af66-f7133cb7f53a",
   "metadata": {},
   "outputs": [],
   "source": []
  }
 ],
 "metadata": {
  "kernelspec": {
   "display_name": "Python 3 (ipykernel)",
   "language": "python",
   "name": "python3"
  },
  "language_info": {
   "codemirror_mode": {
    "name": "ipython",
    "version": 3
   },
   "file_extension": ".py",
   "mimetype": "text/x-python",
   "name": "python",
   "nbconvert_exporter": "python",
   "pygments_lexer": "ipython3",
   "version": "3.12.7"
  }
 },
 "nbformat": 4,
 "nbformat_minor": 5
}
